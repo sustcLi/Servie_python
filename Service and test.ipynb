{
 "cells": [
  {
   "cell_type": "code",
   "execution_count": 1,
   "id": "71da2d4a",
   "metadata": {},
   "outputs": [],
   "source": [
    "\n",
    "import hashlib\n",
    "import time\n"
   ]
  },
  {
   "cell_type": "code",
   "execution_count": 2,
   "id": "cdef4989",
   "metadata": {},
   "outputs": [],
   "source": [
    "class service():\n",
    "    users = {} # format username:[encrypted_pass_word, (set of roles)]\n",
    "    roles = {}# format rolename: (set of users)\n",
    "    auth_token = {}\n",
    "    \n",
    "\n",
    "    def create_user(self,username,password):\n",
    "        if username in self.users.keys():\n",
    "            print('Error: Username already existed')\n",
    "        else:\n",
    "            self.users[username] =[hashlib.sha224(password.encode('utf-8')).hexdigest(),set()]\n",
    "        \n",
    "    def delete_user(self,username):\n",
    "        if username in self.users.keys():\n",
    "            # delete role-user pairs associated with this user\n",
    "            roles_user =  (self.users[username])[1] #roles associated with this user\n",
    "            for role in roles_user:\n",
    "                self.roles[role].remove(username)\n",
    "            \n",
    "            #delete user\n",
    "            del self.users[username]\n",
    "        else:\n",
    "            print('Error: Username not existed')\n",
    "            \n",
    "            \n",
    "    def create_role(self,rolename):\n",
    "        if rolename in self.roles.keys():\n",
    "            print('Error: Rolename already existed') \n",
    "        else:\n",
    "            self.roles[rolename] = set()\n",
    "            \n",
    "    def delete_role(self,rolename):\n",
    "        if rolename in self.roles.keys():\n",
    "            #deleter role-user pairs associated with this role\n",
    "            users_role = self.roles[rolename]#users associated with this role\n",
    "            for user in users_role:\n",
    "                (self.users[username])[1].remove(rolename)\n",
    "            \n",
    "            #delete role\n",
    "            del self.roles[rolename]\n",
    "        else:\n",
    "             print('Error: Rolename not existed') \n",
    "                \n",
    "    def add_role_to_user(self,username,rolename):\n",
    "        if rolename not in self.roles.keys():\n",
    "            print('Error: Rolename not existed') \n",
    "            return \n",
    "        if username not in self.users.keys():\n",
    "            print('Error: Username not existed') \n",
    "            return \n",
    "        if username in self.roles[rolename]:#user already associated with this role\n",
    "            return\n",
    "        if rolename in (self.users[username])[1]: #role already associated with this user\n",
    "            return\n",
    "        \n",
    "        # user is not associated with this role, then add\n",
    "        \n",
    "        self.roles[rolename].add(username)\n",
    "        ((self.users[username])[1]).add(rolename)\n",
    "        \n",
    "    def authenticate(self,username,password):\n",
    "        en_pass = hashlib.sha224(password.encode('utf-8')).hexdigest() #encrypted_pass_word\n",
    "        expire = 7200 # expire time in senconds, 7200s = 2h\n",
    "        \n",
    "        if username not in self.users.keys():\n",
    "            print('Error: Username not existed')\n",
    "            return \n",
    "        if en_pass != (self.users[username])[0]:\n",
    "            print('Error: password not correct')\n",
    "            return\n",
    "        # username and password correct, then produce token\n",
    "        ts_str = str(time.time() + expire)\n",
    "        token = ts_str+':'+ en_pass\n",
    "        self.auth_token[token] = username\n",
    "        return token\n",
    "        \n",
    "    def invalidate(self,token):\n",
    "        if token not in self.auth_token.keys():\n",
    "            print('Error: Token not existed')\n",
    "            return \n",
    "        del self.auth_token[token]\n",
    "        \n",
    "    def check_role(self,token,role):\n",
    "        # check the token\n",
    "        if token not in self.auth_token.keys():\n",
    "            print('Error: Token not existed')\n",
    "            return 'Error'\n",
    "        \n",
    "        tokenlist = token.split(':') # split the expire time and token generated\n",
    "        if len(tokenlist)>2:        # format not valid\n",
    "            print('Error: Token not valid')\n",
    "            return 'Error'\n",
    "        \n",
    "        exp_time = tokenlist[0] # expire time\n",
    "        if float(exp_time) < time.time(): # expired\n",
    "            print('Error: Token expired')\n",
    "            self.invalidate(token)\n",
    "            return 'Error'\n",
    "        \n",
    "        #check role \n",
    "        username = self.auth_token[token] # get username, in order to get the set of roles associated with thi user\n",
    "        if role in (self.users[username])[1]:\n",
    "            return True\n",
    "        else:\n",
    "            return False\n",
    "        \n",
    "        \n",
    "    def all_role(self,token): \n",
    "        #check the token\n",
    "        if token not in self.auth_token.keys():\n",
    "            print('Error: Token not existed')\n",
    "            return 'Error'\n",
    "        \n",
    "        tokenlist = token.split(':') # split the expire time and token generated\n",
    "        if len(tokenlist)>2:        # format not valid\n",
    "            print('Error: Token not valid')\n",
    "            return 'Error'\n",
    "        \n",
    "        exp_time = tokenlist[0] # expire time\n",
    "        if float(exp_time) < time.time(): # expired\n",
    "            print('Error: Token expired')\n",
    "            self.invalidate(token)\n",
    "            return 'Error'\n",
    "        \n",
    "        # get roles \n",
    "        username = self.auth_token[token]# get username, in order to get the set of roles associated with thi user\n",
    "        roles_user = (self.users[username])[1] #roles of this user\n",
    "        return roles_user\n",
    "        \n",
    "        \n",
    "        \n",
    "        \n",
    "        \n",
    "        \n",
    "    "
   ]
  },
  {
   "cell_type": "markdown",
   "id": "c5cc434d",
   "metadata": {},
   "source": [
    "# TEST"
   ]
  },
  {
   "cell_type": "code",
   "execution_count": 3,
   "id": "f4d1de24",
   "metadata": {},
   "outputs": [],
   "source": [
    "testcase = service()"
   ]
  },
  {
   "cell_type": "markdown",
   "id": "1def2d3e",
   "metadata": {},
   "source": [
    "## Test create_user()"
   ]
  },
  {
   "cell_type": "code",
   "execution_count": 4,
   "id": "455d57d6",
   "metadata": {},
   "outputs": [],
   "source": [
    "testcase.create_user('aa','123')"
   ]
  },
  {
   "cell_type": "code",
   "execution_count": 5,
   "id": "7c546d4b",
   "metadata": {},
   "outputs": [
    {
     "data": {
      "text/plain": [
       "{'aa': ['78d8045d684abd2eece923758f3cd781489df3a48e1278982466017f', set()]}"
      ]
     },
     "execution_count": 5,
     "metadata": {},
     "output_type": "execute_result"
    }
   ],
   "source": [
    "testcase.users"
   ]
  },
  {
   "cell_type": "markdown",
   "id": "9c005ad8",
   "metadata": {},
   "source": [
    "## Test delete_user()"
   ]
  },
  {
   "cell_type": "code",
   "execution_count": 6,
   "id": "6931b45a",
   "metadata": {},
   "outputs": [
    {
     "name": "stdout",
     "output_type": "stream",
     "text": [
      "Error: Username not existed\n"
     ]
    }
   ],
   "source": [
    "testcase.delete_user('bb')"
   ]
  },
  {
   "cell_type": "code",
   "execution_count": 7,
   "id": "961ea5d1",
   "metadata": {},
   "outputs": [],
   "source": [
    "testcase.delete_user('aa')"
   ]
  },
  {
   "cell_type": "code",
   "execution_count": 8,
   "id": "e63af8f3",
   "metadata": {},
   "outputs": [
    {
     "data": {
      "text/plain": [
       "{}"
      ]
     },
     "execution_count": 8,
     "metadata": {},
     "output_type": "execute_result"
    }
   ],
   "source": [
    "testcase.users"
   ]
  },
  {
   "cell_type": "markdown",
   "id": "88330fe7",
   "metadata": {},
   "source": [
    "## Test create_role()"
   ]
  },
  {
   "cell_type": "code",
   "execution_count": 9,
   "id": "60f3f05e",
   "metadata": {},
   "outputs": [],
   "source": [
    "testcase.create_user('aa','123')"
   ]
  },
  {
   "cell_type": "code",
   "execution_count": 10,
   "id": "12cbb9e9",
   "metadata": {},
   "outputs": [],
   "source": [
    "testcase.create_role('admin')"
   ]
  },
  {
   "cell_type": "code",
   "execution_count": 11,
   "id": "098ab140",
   "metadata": {},
   "outputs": [
    {
     "name": "stdout",
     "output_type": "stream",
     "text": [
      "Error: Rolename already existed\n"
     ]
    }
   ],
   "source": [
    "testcase.create_role('admin')"
   ]
  },
  {
   "cell_type": "code",
   "execution_count": 12,
   "id": "e186250e",
   "metadata": {},
   "outputs": [
    {
     "data": {
      "text/plain": [
       "{'admin': set()}"
      ]
     },
     "execution_count": 12,
     "metadata": {},
     "output_type": "execute_result"
    }
   ],
   "source": [
    "testcase.roles"
   ]
  },
  {
   "cell_type": "markdown",
   "id": "148437c4",
   "metadata": {},
   "source": [
    "## Test delete_role()"
   ]
  },
  {
   "cell_type": "code",
   "execution_count": 13,
   "id": "5944c69e",
   "metadata": {},
   "outputs": [
    {
     "name": "stdout",
     "output_type": "stream",
     "text": [
      "Error: Rolename not existed\n"
     ]
    }
   ],
   "source": [
    "testcase.delete_role('wrongname')"
   ]
  },
  {
   "cell_type": "code",
   "execution_count": 14,
   "id": "7ab4eaa6",
   "metadata": {},
   "outputs": [
    {
     "data": {
      "text/plain": [
       "{}"
      ]
     },
     "execution_count": 14,
     "metadata": {},
     "output_type": "execute_result"
    }
   ],
   "source": [
    "testcase.delete_role('admin')\n",
    "testcase.roles"
   ]
  },
  {
   "cell_type": "markdown",
   "id": "0d8c13b7",
   "metadata": {},
   "source": [
    "## Test add_role_to_user()"
   ]
  },
  {
   "cell_type": "code",
   "execution_count": 15,
   "id": "a5e3960d",
   "metadata": {},
   "outputs": [
    {
     "name": "stdout",
     "output_type": "stream",
     "text": [
      "Error: Username not existed\n"
     ]
    }
   ],
   "source": [
    "testcase.create_role('admin')\n",
    "testcase.add_role_to_user('wrong_user_name','admin')"
   ]
  },
  {
   "cell_type": "code",
   "execution_count": 16,
   "id": "7e0ea64e",
   "metadata": {},
   "outputs": [
    {
     "name": "stdout",
     "output_type": "stream",
     "text": [
      "Error: Rolename not existed\n"
     ]
    }
   ],
   "source": [
    "testcase.add_role_to_user('aa','wrongname')"
   ]
  },
  {
   "cell_type": "code",
   "execution_count": 17,
   "id": "c6718f3b",
   "metadata": {},
   "outputs": [],
   "source": [
    "testcase.add_role_to_user('aa','admin')"
   ]
  },
  {
   "cell_type": "code",
   "execution_count": 18,
   "id": "96a93d31",
   "metadata": {},
   "outputs": [
    {
     "data": {
      "text/plain": [
       "{'aa': ['78d8045d684abd2eece923758f3cd781489df3a48e1278982466017f', {'admin'}]}"
      ]
     },
     "execution_count": 18,
     "metadata": {},
     "output_type": "execute_result"
    }
   ],
   "source": [
    "testcase.users"
   ]
  },
  {
   "cell_type": "code",
   "execution_count": 19,
   "id": "7b756e8c",
   "metadata": {},
   "outputs": [
    {
     "data": {
      "text/plain": [
       "{'admin': {'aa'}}"
      ]
     },
     "execution_count": 19,
     "metadata": {},
     "output_type": "execute_result"
    }
   ],
   "source": [
    "testcase.roles"
   ]
  },
  {
   "cell_type": "markdown",
   "id": "8850af4f",
   "metadata": {},
   "source": [
    "## Test authenticate()"
   ]
  },
  {
   "cell_type": "code",
   "execution_count": 20,
   "id": "a624f6f4",
   "metadata": {},
   "outputs": [
    {
     "name": "stdout",
     "output_type": "stream",
     "text": [
      "Error: Username not existed\n"
     ]
    }
   ],
   "source": [
    "testcase.authenticate('wrong_username','wrong_password')"
   ]
  },
  {
   "cell_type": "code",
   "execution_count": 21,
   "id": "8e7f0e35",
   "metadata": {},
   "outputs": [
    {
     "name": "stdout",
     "output_type": "stream",
     "text": [
      "Error: password not correct\n"
     ]
    }
   ],
   "source": [
    "testcase.authenticate('aa','wrong_password')"
   ]
  },
  {
   "cell_type": "code",
   "execution_count": 22,
   "id": "c8ce3870",
   "metadata": {},
   "outputs": [
    {
     "data": {
      "text/plain": [
       "'1653124614.649365:78d8045d684abd2eece923758f3cd781489df3a48e1278982466017f'"
      ]
     },
     "execution_count": 22,
     "metadata": {},
     "output_type": "execute_result"
    }
   ],
   "source": [
    "token = testcase.authenticate('aa','123')\n",
    "token"
   ]
  },
  {
   "cell_type": "markdown",
   "id": "5dc533f7",
   "metadata": {},
   "source": [
    "## Test invalidate()"
   ]
  },
  {
   "cell_type": "code",
   "execution_count": 23,
   "id": "35c88405",
   "metadata": {},
   "outputs": [
    {
     "name": "stdout",
     "output_type": "stream",
     "text": [
      "Error: Token not existed\n"
     ]
    }
   ],
   "source": [
    "testcase.invalidate('wrong_token')"
   ]
  },
  {
   "cell_type": "code",
   "execution_count": 24,
   "id": "4b2910a2",
   "metadata": {},
   "outputs": [],
   "source": [
    "testcase.invalidate(token) "
   ]
  },
  {
   "cell_type": "code",
   "execution_count": 25,
   "id": "d244f9e2",
   "metadata": {},
   "outputs": [
    {
     "name": "stdout",
     "output_type": "stream",
     "text": [
      "Error: Token not existed\n"
     ]
    }
   ],
   "source": [
    "testcase.invalidate(token)"
   ]
  },
  {
   "cell_type": "code",
   "execution_count": 26,
   "id": "3482687d",
   "metadata": {},
   "outputs": [
    {
     "data": {
      "text/plain": [
       "'1653124614.7096968:78d8045d684abd2eece923758f3cd781489df3a48e1278982466017f'"
      ]
     },
     "execution_count": 26,
     "metadata": {},
     "output_type": "execute_result"
    }
   ],
   "source": [
    "token = testcase.authenticate('aa','123')\n",
    "token"
   ]
  },
  {
   "cell_type": "markdown",
   "id": "79330d33",
   "metadata": {},
   "source": [
    "## Test check_role()"
   ]
  },
  {
   "cell_type": "code",
   "execution_count": 27,
   "id": "fb0fdf88",
   "metadata": {},
   "outputs": [
    {
     "name": "stdout",
     "output_type": "stream",
     "text": [
      "Error: Token not existed\n"
     ]
    },
    {
     "data": {
      "text/plain": [
       "'Error'"
      ]
     },
     "execution_count": 27,
     "metadata": {},
     "output_type": "execute_result"
    }
   ],
   "source": [
    "testcase.check_role('wrong_token','wrong_rolename')"
   ]
  },
  {
   "cell_type": "code",
   "execution_count": 28,
   "id": "3cced854",
   "metadata": {},
   "outputs": [
    {
     "data": {
      "text/plain": [
       "False"
      ]
     },
     "execution_count": 28,
     "metadata": {},
     "output_type": "execute_result"
    }
   ],
   "source": [
    "testcase.check_role(token,'wrong_rolename')"
   ]
  },
  {
   "cell_type": "code",
   "execution_count": 29,
   "id": "9b02463c",
   "metadata": {},
   "outputs": [
    {
     "data": {
      "text/plain": [
       "True"
      ]
     },
     "execution_count": 29,
     "metadata": {},
     "output_type": "execute_result"
    }
   ],
   "source": [
    "testcase.check_role(token,'admin')"
   ]
  },
  {
   "cell_type": "markdown",
   "id": "6d7cffd4",
   "metadata": {},
   "source": [
    "## Test the expiration of token"
   ]
  },
  {
   "cell_type": "code",
   "execution_count": 30,
   "id": "91ca7389",
   "metadata": {},
   "outputs": [
    {
     "name": "stdout",
     "output_type": "stream",
     "text": [
      "Error: Token expired\n"
     ]
    },
    {
     "data": {
      "text/plain": [
       "'Error'"
      ]
     },
     "execution_count": 30,
     "metadata": {},
     "output_type": "execute_result"
    }
   ],
   "source": [
    "token_list = token.split(':')\n",
    "exp_time = float(token_list[0])\n",
    "exp_time=exp_time-7200 #expried time\n",
    "exp_token = str(exp_time)+':'+ token_list[1]\n",
    "testcase.auth_token[exp_token ] = 'aa'  #add expried time to the tokens\n",
    "\n",
    "testcase.check_role(exp_token,'admin')"
   ]
  },
  {
   "cell_type": "markdown",
   "id": "f72711f5",
   "metadata": {},
   "source": [
    "## Test all_role()"
   ]
  },
  {
   "cell_type": "code",
   "execution_count": 31,
   "id": "2f484328",
   "metadata": {},
   "outputs": [
    {
     "name": "stdout",
     "output_type": "stream",
     "text": [
      "Error: Token not existed\n"
     ]
    },
    {
     "data": {
      "text/plain": [
       "'Error'"
      ]
     },
     "execution_count": 31,
     "metadata": {},
     "output_type": "execute_result"
    }
   ],
   "source": [
    "testcase.all_role('wrong_token')"
   ]
  },
  {
   "cell_type": "code",
   "execution_count": 32,
   "id": "9e9ec846",
   "metadata": {},
   "outputs": [
    {
     "data": {
      "text/plain": [
       "{'admin'}"
      ]
     },
     "execution_count": 32,
     "metadata": {},
     "output_type": "execute_result"
    }
   ],
   "source": [
    "testcase.all_role(token)"
   ]
  }
 ],
 "metadata": {
  "kernelspec": {
   "display_name": "Python 3",
   "language": "python",
   "name": "python3"
  },
  "language_info": {
   "codemirror_mode": {
    "name": "ipython",
    "version": 3
   },
   "file_extension": ".py",
   "mimetype": "text/x-python",
   "name": "python",
   "nbconvert_exporter": "python",
   "pygments_lexer": "ipython3",
   "version": "3.8.8"
  }
 },
 "nbformat": 4,
 "nbformat_minor": 5
}
